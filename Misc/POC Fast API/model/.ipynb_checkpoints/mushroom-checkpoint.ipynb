{
 "cells": [
  {
   "cell_type": "markdown",
   "metadata": {
    "id": "81Dsk3K4Mryg"
   },
   "source": [
    "# **Data Analysis on Mushroom Data set**\n",
    "\n",
    "[Data Source](https://www.kaggle.com/datasets/uciml/mushroom-classification)\n"
   ]
  },
  {
   "cell_type": "code",
   "execution_count": 1,
   "metadata": {
    "colab": {
     "base_uri": "https://localhost:8080/"
    },
    "id": "D5uIPM6wHoYy",
    "outputId": "e4dd8262-f6f9-421d-de4b-a7525b7fed6b"
   },
   "outputs": [
    {
     "name": "stdout",
     "output_type": "stream",
     "text": [
      "Defaulting to user installation because normal site-packages is not writeable\n",
      "Requirement already satisfied: kmodes in c:\\users\\300363077\\appdata\\roaming\\python\\python312\\site-packages (0.12.2)\n",
      "Requirement already satisfied: numpy>=1.10.4 in c:\\programdata\\anaconda3\\lib\\site-packages (from kmodes) (1.26.4)\n",
      "Requirement already satisfied: scikit-learn>=0.22.0 in c:\\programdata\\anaconda3\\lib\\site-packages (from kmodes) (1.5.1)\n",
      "Requirement already satisfied: scipy>=0.13.3 in c:\\programdata\\anaconda3\\lib\\site-packages (from kmodes) (1.13.1)\n",
      "Requirement already satisfied: joblib>=0.11 in c:\\programdata\\anaconda3\\lib\\site-packages (from kmodes) (1.4.2)\n",
      "Requirement already satisfied: threadpoolctl>=3.1.0 in c:\\programdata\\anaconda3\\lib\\site-packages (from scikit-learn>=0.22.0->kmodes) (3.5.0)\n"
     ]
    }
   ],
   "source": [
    "import numpy as np\n",
    "import pandas as pd\n",
    "import matplotlib.pyplot as plt\n",
    "!pip install kmodes"
   ]
  },
  {
   "cell_type": "code",
   "execution_count": 2,
   "metadata": {
    "colab": {
     "base_uri": "https://localhost:8080/"
    },
    "id": "ET_U8BVnHeGs",
    "outputId": "1b4abef5-6e01-48eb-8005-4a71604ef0e8"
   },
   "outputs": [],
   "source": [
    "# Mount Google Drive\n",
    "#from google.colab import drive\n",
    "#drive.mount('/content/drive')"
   ]
  },
  {
   "cell_type": "code",
   "execution_count": 3,
   "metadata": {
    "id": "yp89gtLwI380"
   },
   "outputs": [],
   "source": [
    "data = pd.read_csv('mushrooms.csv')"
   ]
  },
  {
   "cell_type": "code",
   "execution_count": 4,
   "metadata": {
    "colab": {
     "base_uri": "https://localhost:8080/"
    },
    "id": "d2i7DHilxemz",
    "outputId": "c56a7251-3597-472e-fc2a-8f1c0c475225"
   },
   "outputs": [
    {
     "name": "stdout",
     "output_type": "stream",
     "text": [
      "<class 'pandas.core.frame.DataFrame'>\n",
      "RangeIndex: 8124 entries, 0 to 8123\n",
      "Data columns (total 23 columns):\n",
      " #   Column                    Non-Null Count  Dtype \n",
      "---  ------                    --------------  ----- \n",
      " 0   class                     8124 non-null   object\n",
      " 1   cap-shape                 8124 non-null   object\n",
      " 2   cap-surface               8124 non-null   object\n",
      " 3   cap-color                 8124 non-null   object\n",
      " 4   bruises                   8124 non-null   object\n",
      " 5   odor                      8124 non-null   object\n",
      " 6   gill-attachment           8124 non-null   object\n",
      " 7   gill-spacing              8124 non-null   object\n",
      " 8   gill-size                 8124 non-null   object\n",
      " 9   gill-color                8124 non-null   object\n",
      " 10  stalk-shape               8124 non-null   object\n",
      " 11  stalk-root                8124 non-null   object\n",
      " 12  stalk-surface-above-ring  8124 non-null   object\n",
      " 13  stalk-surface-below-ring  8124 non-null   object\n",
      " 14  stalk-color-above-ring    8124 non-null   object\n",
      " 15  stalk-color-below-ring    8124 non-null   object\n",
      " 16  veil-type                 8124 non-null   object\n",
      " 17  veil-color                8124 non-null   object\n",
      " 18  ring-number               8124 non-null   object\n",
      " 19  ring-type                 8124 non-null   object\n",
      " 20  spore-print-color         8124 non-null   object\n",
      " 21  population                8124 non-null   object\n",
      " 22  habitat                   8124 non-null   object\n",
      "dtypes: object(23)\n",
      "memory usage: 1.4+ MB\n"
     ]
    }
   ],
   "source": [
    "data.info()"
   ]
  },
  {
   "cell_type": "code",
   "execution_count": 5,
   "metadata": {
    "colab": {
     "base_uri": "https://localhost:8080/",
     "height": 287
    },
    "id": "AfJI8BkwyW8E",
    "outputId": "4e31cafa-818a-4d9a-ba42-8255bce2ba3f"
   },
   "outputs": [
    {
     "data": {
      "text/html": [
       "<div>\n",
       "<style scoped>\n",
       "    .dataframe tbody tr th:only-of-type {\n",
       "        vertical-align: middle;\n",
       "    }\n",
       "\n",
       "    .dataframe tbody tr th {\n",
       "        vertical-align: top;\n",
       "    }\n",
       "\n",
       "    .dataframe thead th {\n",
       "        text-align: right;\n",
       "    }\n",
       "</style>\n",
       "<table border=\"1\" class=\"dataframe\">\n",
       "  <thead>\n",
       "    <tr style=\"text-align: right;\">\n",
       "      <th></th>\n",
       "      <th>class</th>\n",
       "      <th>cap-shape</th>\n",
       "      <th>cap-surface</th>\n",
       "      <th>cap-color</th>\n",
       "      <th>bruises</th>\n",
       "      <th>odor</th>\n",
       "      <th>gill-attachment</th>\n",
       "      <th>gill-spacing</th>\n",
       "      <th>gill-size</th>\n",
       "      <th>gill-color</th>\n",
       "      <th>...</th>\n",
       "      <th>stalk-surface-below-ring</th>\n",
       "      <th>stalk-color-above-ring</th>\n",
       "      <th>stalk-color-below-ring</th>\n",
       "      <th>veil-type</th>\n",
       "      <th>veil-color</th>\n",
       "      <th>ring-number</th>\n",
       "      <th>ring-type</th>\n",
       "      <th>spore-print-color</th>\n",
       "      <th>population</th>\n",
       "      <th>habitat</th>\n",
       "    </tr>\n",
       "  </thead>\n",
       "  <tbody>\n",
       "    <tr>\n",
       "      <th>0</th>\n",
       "      <td>p</td>\n",
       "      <td>x</td>\n",
       "      <td>s</td>\n",
       "      <td>n</td>\n",
       "      <td>t</td>\n",
       "      <td>p</td>\n",
       "      <td>f</td>\n",
       "      <td>c</td>\n",
       "      <td>n</td>\n",
       "      <td>k</td>\n",
       "      <td>...</td>\n",
       "      <td>s</td>\n",
       "      <td>w</td>\n",
       "      <td>w</td>\n",
       "      <td>p</td>\n",
       "      <td>w</td>\n",
       "      <td>o</td>\n",
       "      <td>p</td>\n",
       "      <td>k</td>\n",
       "      <td>s</td>\n",
       "      <td>u</td>\n",
       "    </tr>\n",
       "    <tr>\n",
       "      <th>1</th>\n",
       "      <td>e</td>\n",
       "      <td>x</td>\n",
       "      <td>s</td>\n",
       "      <td>y</td>\n",
       "      <td>t</td>\n",
       "      <td>a</td>\n",
       "      <td>f</td>\n",
       "      <td>c</td>\n",
       "      <td>b</td>\n",
       "      <td>k</td>\n",
       "      <td>...</td>\n",
       "      <td>s</td>\n",
       "      <td>w</td>\n",
       "      <td>w</td>\n",
       "      <td>p</td>\n",
       "      <td>w</td>\n",
       "      <td>o</td>\n",
       "      <td>p</td>\n",
       "      <td>n</td>\n",
       "      <td>n</td>\n",
       "      <td>g</td>\n",
       "    </tr>\n",
       "    <tr>\n",
       "      <th>2</th>\n",
       "      <td>e</td>\n",
       "      <td>b</td>\n",
       "      <td>s</td>\n",
       "      <td>w</td>\n",
       "      <td>t</td>\n",
       "      <td>l</td>\n",
       "      <td>f</td>\n",
       "      <td>c</td>\n",
       "      <td>b</td>\n",
       "      <td>n</td>\n",
       "      <td>...</td>\n",
       "      <td>s</td>\n",
       "      <td>w</td>\n",
       "      <td>w</td>\n",
       "      <td>p</td>\n",
       "      <td>w</td>\n",
       "      <td>o</td>\n",
       "      <td>p</td>\n",
       "      <td>n</td>\n",
       "      <td>n</td>\n",
       "      <td>m</td>\n",
       "    </tr>\n",
       "    <tr>\n",
       "      <th>3</th>\n",
       "      <td>p</td>\n",
       "      <td>x</td>\n",
       "      <td>y</td>\n",
       "      <td>w</td>\n",
       "      <td>t</td>\n",
       "      <td>p</td>\n",
       "      <td>f</td>\n",
       "      <td>c</td>\n",
       "      <td>n</td>\n",
       "      <td>n</td>\n",
       "      <td>...</td>\n",
       "      <td>s</td>\n",
       "      <td>w</td>\n",
       "      <td>w</td>\n",
       "      <td>p</td>\n",
       "      <td>w</td>\n",
       "      <td>o</td>\n",
       "      <td>p</td>\n",
       "      <td>k</td>\n",
       "      <td>s</td>\n",
       "      <td>u</td>\n",
       "    </tr>\n",
       "    <tr>\n",
       "      <th>4</th>\n",
       "      <td>e</td>\n",
       "      <td>x</td>\n",
       "      <td>s</td>\n",
       "      <td>g</td>\n",
       "      <td>f</td>\n",
       "      <td>n</td>\n",
       "      <td>f</td>\n",
       "      <td>w</td>\n",
       "      <td>b</td>\n",
       "      <td>k</td>\n",
       "      <td>...</td>\n",
       "      <td>s</td>\n",
       "      <td>w</td>\n",
       "      <td>w</td>\n",
       "      <td>p</td>\n",
       "      <td>w</td>\n",
       "      <td>o</td>\n",
       "      <td>e</td>\n",
       "      <td>n</td>\n",
       "      <td>a</td>\n",
       "      <td>g</td>\n",
       "    </tr>\n",
       "  </tbody>\n",
       "</table>\n",
       "<p>5 rows × 23 columns</p>\n",
       "</div>"
      ],
      "text/plain": [
       "  class cap-shape cap-surface cap-color bruises odor gill-attachment  \\\n",
       "0     p         x           s         n       t    p               f   \n",
       "1     e         x           s         y       t    a               f   \n",
       "2     e         b           s         w       t    l               f   \n",
       "3     p         x           y         w       t    p               f   \n",
       "4     e         x           s         g       f    n               f   \n",
       "\n",
       "  gill-spacing gill-size gill-color  ... stalk-surface-below-ring  \\\n",
       "0            c         n          k  ...                        s   \n",
       "1            c         b          k  ...                        s   \n",
       "2            c         b          n  ...                        s   \n",
       "3            c         n          n  ...                        s   \n",
       "4            w         b          k  ...                        s   \n",
       "\n",
       "  stalk-color-above-ring stalk-color-below-ring veil-type veil-color  \\\n",
       "0                      w                      w         p          w   \n",
       "1                      w                      w         p          w   \n",
       "2                      w                      w         p          w   \n",
       "3                      w                      w         p          w   \n",
       "4                      w                      w         p          w   \n",
       "\n",
       "  ring-number ring-type spore-print-color population habitat  \n",
       "0           o         p                 k          s       u  \n",
       "1           o         p                 n          n       g  \n",
       "2           o         p                 n          n       m  \n",
       "3           o         p                 k          s       u  \n",
       "4           o         e                 n          a       g  \n",
       "\n",
       "[5 rows x 23 columns]"
      ]
     },
     "execution_count": 5,
     "metadata": {},
     "output_type": "execute_result"
    }
   ],
   "source": [
    "data.head()"
   ]
  },
  {
   "cell_type": "code",
   "execution_count": 6,
   "metadata": {
    "colab": {
     "base_uri": "https://localhost:8080/"
    },
    "id": "gAztFkijyfoz",
    "outputId": "8ad55c20-1f42-4e2d-ed0d-e581337b5f8e"
   },
   "outputs": [
    {
     "data": {
      "text/plain": [
       "False    8124\n",
       "Name: count, dtype: int64"
      ]
     },
     "execution_count": 6,
     "metadata": {},
     "output_type": "execute_result"
    }
   ],
   "source": [
    "duplicates = data.duplicated()\n",
    "duplicates.value_counts()"
   ]
  },
  {
   "cell_type": "code",
   "execution_count": 7,
   "metadata": {
    "colab": {
     "base_uri": "https://localhost:8080/"
    },
    "id": "T3xctY75rS_t",
    "outputId": "c20e5515-acb9-48d2-fcb4-d410988b45de"
   },
   "outputs": [
    {
     "name": "stdout",
     "output_type": "stream",
     "text": [
      "\n",
      "Count of missing values in each column:\n",
      "class                       0\n",
      "cap-shape                   0\n",
      "cap-surface                 0\n",
      "cap-color                   0\n",
      "bruises                     0\n",
      "odor                        0\n",
      "gill-attachment             0\n",
      "gill-spacing                0\n",
      "gill-size                   0\n",
      "gill-color                  0\n",
      "stalk-shape                 0\n",
      "stalk-root                  0\n",
      "stalk-surface-above-ring    0\n",
      "stalk-surface-below-ring    0\n",
      "stalk-color-above-ring      0\n",
      "stalk-color-below-ring      0\n",
      "veil-type                   0\n",
      "veil-color                  0\n",
      "ring-number                 0\n",
      "ring-type                   0\n",
      "spore-print-color           0\n",
      "population                  0\n",
      "habitat                     0\n",
      "dtype: int64\n"
     ]
    }
   ],
   "source": [
    "missing_values = data.isna()\n",
    "missing_count = missing_values.sum()\n",
    "\n",
    "print(\"\\nCount of missing values in each column:\")\n",
    "print(missing_count)"
   ]
  },
  {
   "cell_type": "code",
   "execution_count": 8,
   "metadata": {
    "colab": {
     "base_uri": "https://localhost:8080/",
     "height": 256
    },
    "id": "he8lf5CyzgZq",
    "outputId": "f55001ba-8081-42b2-84be-ee516e56e4bf"
   },
   "outputs": [
    {
     "data": {
      "text/html": [
       "<div>\n",
       "<style scoped>\n",
       "    .dataframe tbody tr th:only-of-type {\n",
       "        vertical-align: middle;\n",
       "    }\n",
       "\n",
       "    .dataframe tbody tr th {\n",
       "        vertical-align: top;\n",
       "    }\n",
       "\n",
       "    .dataframe thead th {\n",
       "        text-align: right;\n",
       "    }\n",
       "</style>\n",
       "<table border=\"1\" class=\"dataframe\">\n",
       "  <thead>\n",
       "    <tr style=\"text-align: right;\">\n",
       "      <th></th>\n",
       "      <th>class</th>\n",
       "      <th>cap-shape</th>\n",
       "      <th>cap-surface</th>\n",
       "      <th>cap-color</th>\n",
       "      <th>bruises</th>\n",
       "      <th>odor</th>\n",
       "      <th>gill-attachment</th>\n",
       "      <th>gill-spacing</th>\n",
       "      <th>gill-size</th>\n",
       "      <th>gill-color</th>\n",
       "      <th>...</th>\n",
       "      <th>stalk-surface-below-ring</th>\n",
       "      <th>stalk-color-above-ring</th>\n",
       "      <th>stalk-color-below-ring</th>\n",
       "      <th>veil-type</th>\n",
       "      <th>veil-color</th>\n",
       "      <th>ring-number</th>\n",
       "      <th>ring-type</th>\n",
       "      <th>spore-print-color</th>\n",
       "      <th>population</th>\n",
       "      <th>habitat</th>\n",
       "    </tr>\n",
       "  </thead>\n",
       "  <tbody>\n",
       "    <tr>\n",
       "      <th>count</th>\n",
       "      <td>8124</td>\n",
       "      <td>8124</td>\n",
       "      <td>8124</td>\n",
       "      <td>8124</td>\n",
       "      <td>8124</td>\n",
       "      <td>8124</td>\n",
       "      <td>8124</td>\n",
       "      <td>8124</td>\n",
       "      <td>8124</td>\n",
       "      <td>8124</td>\n",
       "      <td>...</td>\n",
       "      <td>8124</td>\n",
       "      <td>8124</td>\n",
       "      <td>8124</td>\n",
       "      <td>8124</td>\n",
       "      <td>8124</td>\n",
       "      <td>8124</td>\n",
       "      <td>8124</td>\n",
       "      <td>8124</td>\n",
       "      <td>8124</td>\n",
       "      <td>8124</td>\n",
       "    </tr>\n",
       "    <tr>\n",
       "      <th>unique</th>\n",
       "      <td>2</td>\n",
       "      <td>6</td>\n",
       "      <td>4</td>\n",
       "      <td>10</td>\n",
       "      <td>2</td>\n",
       "      <td>9</td>\n",
       "      <td>2</td>\n",
       "      <td>2</td>\n",
       "      <td>2</td>\n",
       "      <td>12</td>\n",
       "      <td>...</td>\n",
       "      <td>4</td>\n",
       "      <td>9</td>\n",
       "      <td>9</td>\n",
       "      <td>1</td>\n",
       "      <td>4</td>\n",
       "      <td>3</td>\n",
       "      <td>5</td>\n",
       "      <td>9</td>\n",
       "      <td>6</td>\n",
       "      <td>7</td>\n",
       "    </tr>\n",
       "    <tr>\n",
       "      <th>top</th>\n",
       "      <td>e</td>\n",
       "      <td>x</td>\n",
       "      <td>y</td>\n",
       "      <td>n</td>\n",
       "      <td>f</td>\n",
       "      <td>n</td>\n",
       "      <td>f</td>\n",
       "      <td>c</td>\n",
       "      <td>b</td>\n",
       "      <td>b</td>\n",
       "      <td>...</td>\n",
       "      <td>s</td>\n",
       "      <td>w</td>\n",
       "      <td>w</td>\n",
       "      <td>p</td>\n",
       "      <td>w</td>\n",
       "      <td>o</td>\n",
       "      <td>p</td>\n",
       "      <td>w</td>\n",
       "      <td>v</td>\n",
       "      <td>d</td>\n",
       "    </tr>\n",
       "    <tr>\n",
       "      <th>freq</th>\n",
       "      <td>4208</td>\n",
       "      <td>3656</td>\n",
       "      <td>3244</td>\n",
       "      <td>2284</td>\n",
       "      <td>4748</td>\n",
       "      <td>3528</td>\n",
       "      <td>7914</td>\n",
       "      <td>6812</td>\n",
       "      <td>5612</td>\n",
       "      <td>1728</td>\n",
       "      <td>...</td>\n",
       "      <td>4936</td>\n",
       "      <td>4464</td>\n",
       "      <td>4384</td>\n",
       "      <td>8124</td>\n",
       "      <td>7924</td>\n",
       "      <td>7488</td>\n",
       "      <td>3968</td>\n",
       "      <td>2388</td>\n",
       "      <td>4040</td>\n",
       "      <td>3148</td>\n",
       "    </tr>\n",
       "  </tbody>\n",
       "</table>\n",
       "<p>4 rows × 23 columns</p>\n",
       "</div>"
      ],
      "text/plain": [
       "       class cap-shape cap-surface cap-color bruises  odor gill-attachment  \\\n",
       "count   8124      8124        8124      8124    8124  8124            8124   \n",
       "unique     2         6           4        10       2     9               2   \n",
       "top        e         x           y         n       f     n               f   \n",
       "freq    4208      3656        3244      2284    4748  3528            7914   \n",
       "\n",
       "       gill-spacing gill-size gill-color  ... stalk-surface-below-ring  \\\n",
       "count          8124      8124       8124  ...                     8124   \n",
       "unique            2         2         12  ...                        4   \n",
       "top               c         b          b  ...                        s   \n",
       "freq           6812      5612       1728  ...                     4936   \n",
       "\n",
       "       stalk-color-above-ring stalk-color-below-ring veil-type veil-color  \\\n",
       "count                    8124                   8124      8124       8124   \n",
       "unique                      9                      9         1          4   \n",
       "top                         w                      w         p          w   \n",
       "freq                     4464                   4384      8124       7924   \n",
       "\n",
       "       ring-number ring-type spore-print-color population habitat  \n",
       "count         8124      8124              8124       8124    8124  \n",
       "unique           3         5                 9          6       7  \n",
       "top              o         p                 w          v       d  \n",
       "freq          7488      3968              2388       4040    3148  \n",
       "\n",
       "[4 rows x 23 columns]"
      ]
     },
     "execution_count": 8,
     "metadata": {},
     "output_type": "execute_result"
    }
   ],
   "source": [
    "data.describe()"
   ]
  },
  {
   "cell_type": "code",
   "execution_count": 9,
   "metadata": {
    "colab": {
     "base_uri": "https://localhost:8080/"
    },
    "id": "ksvi2im30NEl",
    "outputId": "e14f012d-7c73-4e7d-f52a-5b0c1420800d"
   },
   "outputs": [
    {
     "data": {
      "text/plain": [
       "class\n",
       "e    4208\n",
       "p    3916\n",
       "Name: count, dtype: int64"
      ]
     },
     "execution_count": 9,
     "metadata": {},
     "output_type": "execute_result"
    }
   ],
   "source": [
    "col_class = data['class'].value_counts()\n",
    "col_class"
   ]
  },
  {
   "cell_type": "markdown",
   "metadata": {
    "id": "rtRtAlGTfIq7"
   },
   "source": [
    "# **Clustering**\n",
    "\n",
    "**Clustering including categorical features**"
   ]
  },
  {
   "cell_type": "code",
   "execution_count": 10,
   "metadata": {
    "colab": {
     "base_uri": "https://localhost:8080/",
     "height": 956
    },
    "id": "GauDU9D6Ks2R",
    "outputId": "757eec94-e737-4115-98ad-dc3b91a75387"
   },
   "outputs": [
    {
     "name": "stdout",
     "output_type": "stream",
     "text": [
      "         cap-shape_b  cap-shape_c  cap-shape_f  cap-shape_k  cap-shape_s  \\\n",
      "Cluster                                                                    \n",
      "0           0.094283     0.000427     0.393345     0.000853     0.006826   \n",
      "1           0.004766     0.000953     0.306006     0.387035     0.000000   \n",
      "2           0.000000     0.000000     0.497758     0.008969     0.000000   \n",
      "\n",
      "         cap-shape_x  cap-surface_f  cap-surface_g  cap-surface_s  \\\n",
      "Cluster                                                             \n",
      "0           0.504266       0.339590       0.000640       0.316553   \n",
      "1           0.301239       0.038132       0.000477       0.510963   \n",
      "2           0.493274       0.484305       0.000000       0.000000   \n",
      "\n",
      "         cap-surface_y  ...  habitat_d  habitat_g  habitat_l  habitat_m  \\\n",
      "Cluster                 ...                                               \n",
      "0             0.343217  ...   0.428968   0.342150   0.035410   0.062287   \n",
      "1             0.450429  ...   0.318398   0.053384   0.315539   0.000000   \n",
      "2             0.515695  ...   0.350523   0.322870   0.002990   0.000000   \n",
      "\n",
      "         habitat_p  habitat_u  habitat_w   class_e   class_p  Cluster  \n",
      "Cluster                                                                \n",
      "0         0.028797   0.075085   0.027304  0.843430  0.156570      0.0  \n",
      "1         0.274547   0.007626   0.030505  0.119161  0.880839      1.0  \n",
      "2         0.323617   0.000000   0.000000  0.002990  0.997010      2.0  \n",
      "\n",
      "[3 rows x 120 columns]\n"
     ]
    },
    {
     "data": {
      "image/png": "[encoded data removed]",
      "text/plain": [
       "<Figure size 1000x600 with 1 Axes>"
      ]
     },
     "metadata": {},
     "output_type": "display_data"
    }
   ],
   "source": [
    "from kmodes.kprototypes import KPrototypes\n",
    "from sklearn.preprocessing import StandardScaler\n",
    "from sklearn.decomposition import PCA\n",
    "import pandas as pd\n",
    "\n",
    "# Select categorical columns\n",
    "cat_cols = ['cap-shape', 'cap-surface', 'cap-color', 'bruises', 'odor',\n",
    "       'gill-attachment', 'gill-spacing', 'gill-size', 'gill-color',\n",
    "       'stalk-shape', 'stalk-root', 'stalk-surface-above-ring',\n",
    "       'stalk-surface-below-ring', 'stalk-color-above-ring',\n",
    "       'stalk-color-below-ring', 'veil-type', 'veil-color', 'ring-number',\n",
    "       'ring-type', 'spore-print-color', 'population', 'habitat', 'class']\n",
    "\n",
    "# Encode categorical variables\n",
    "data_encoded = pd.get_dummies(data, columns=cat_cols)\n",
    "\n",
    "# Choose the number of clusters\n",
    "num_clusters = 3\n",
    "\n",
    "# Initialize the k-prototypes algorithm\n",
    "kproto = KPrototypes(n_clusters=num_clusters, init='Cao')\n",
    "\n",
    "# Fit the model\n",
    "clusters = kproto.fit_predict(data_encoded, categorical=list(range(6, data_encoded.shape[1])))\n",
    "centroids = kproto.cluster_centroids_\n",
    "\n",
    "pca = PCA(n_components=2)\n",
    "X_pca = pca.fit_transform(data_encoded)\n",
    "\n",
    "import matplotlib.pyplot as plt\n",
    "import pandas as pd\n",
    "\n",
    "# Create a figure and axis object\n",
    "plt.figure(figsize=(10, 6))\n",
    "\n",
    "# Add cluster labels to the original dataframe\n",
    "data_encoded['Cluster'] = clusters\n",
    "\n",
    "# First scatter plot\n",
    "plt.scatter(X_pca[data['class']=='e'][:,0], X_pca[data['class']=='e'][:,1], color='red', label='Edible', alpha=0.5)\n",
    "\n",
    "# Second scatter plot\n",
    "plt.scatter(X_pca[data['class']=='p'][:,0], X_pca[data['class']=='p'][:,1], color='blue', label='Poisonous', alpha=0.5)\n",
    "plt.legend()\n",
    "\n",
    "cluster_means = data_encoded.groupby('Cluster')[data_encoded.columns].mean()\n",
    "print(cluster_means)"
   ]
  },
  {
   "cell_type": "markdown",
   "metadata": {
    "id": "fqbm0qpZfhlV"
   },
   "source": [
    "# Classification"
   ]
  },
  {
   "cell_type": "markdown",
   "metadata": {
    "id": "1Cy3zBBNfpSN"
   },
   "source": [
    "**Decision Tree Classification**\n"
   ]
  },
  {
   "cell_type": "code",
   "execution_count": 11,
   "metadata": {
    "colab": {
     "base_uri": "https://localhost:8080/"
    },
    "id": "oazy1ZQUIye6",
    "outputId": "70f67a37-7dea-4320-f6bd-2d825c1122cc"
   },
   "outputs": [
    {
     "name": "stdout",
     "output_type": "stream",
     "text": [
      "Accuracy: 1.0\n",
      "\n",
      "Classification Report:\n",
      "              precision    recall  f1-score   support\n",
      "\n",
      "           e       1.00      1.00      1.00      1257\n",
      "           p       1.00      1.00      1.00      1181\n",
      "\n",
      "    accuracy                           1.00      2438\n",
      "   macro avg       1.00      1.00      1.00      2438\n",
      "weighted avg       1.00      1.00      1.00      2438\n",
      "\n",
      "\n",
      "Confusion Matrix:\n",
      "[[1257    0]\n",
      " [   0 1181]]\n",
      "\n",
      "Summation of Feature Importance Grouped by Category:\n",
      "\n",
      "cap-shape:\n",
      "0.0007030353343457005\n",
      "\n",
      "cap-surface:\n",
      "0.0014043189195193035\n",
      "\n",
      "cap-color:\n",
      "0.0\n",
      "\n",
      "bruises:\n",
      "0.0\n",
      "\n",
      "odor:\n",
      "0.6714628264064901\n",
      "\n",
      "gill-attachment:\n",
      "0.0\n",
      "\n",
      "gill-spacing:\n",
      "0.0\n",
      "\n",
      "gill-size:\n",
      "0.0055259173516968695\n",
      "\n",
      "gill-color:\n",
      "0.0\n",
      "\n",
      "stalk-shape:\n",
      "0.0\n",
      "\n",
      "stalk-root:\n",
      "0.25444589152271224\n",
      "\n",
      "stalk-surface-above-ring:\n",
      "0.0\n",
      "\n",
      "stalk-surface-below-ring:\n",
      "0.013227635927362796\n",
      "\n",
      "stalk-color-above-ring:\n",
      "0.0\n",
      "\n",
      "stalk-color-below-ring:\n",
      "0.0\n",
      "\n",
      "veil-type:\n",
      "0.0\n",
      "\n",
      "veil-color:\n",
      "0.0\n",
      "\n",
      "ring-number:\n",
      "0.0\n",
      "\n",
      "ring-type:\n",
      "0.0\n",
      "\n",
      "spore-print-color:\n",
      "0.0329627869960953\n",
      "\n",
      "population:\n",
      "0.0013881237452338132\n",
      "\n",
      "habitat:\n",
      "0.018879463796543736\n"
     ]
    }
   ],
   "source": [
    "from sklearn.model_selection import train_test_split\n",
    "from sklearn.preprocessing import StandardScaler, OneHotEncoder\n",
    "from sklearn.impute import SimpleImputer\n",
    "from sklearn.compose import ColumnTransformer\n",
    "from sklearn.pipeline import Pipeline\n",
    "from sklearn.tree import DecisionTreeClassifier\n",
    "from sklearn.metrics import accuracy_score\n",
    "from sklearn.metrics import classification_report\n",
    "from sklearn.metrics import confusion_matrix\n",
    "\n",
    "# Define categorical features\n",
    "dt_categorical_features = ['cap-shape', 'cap-surface', 'cap-color', 'bruises', 'odor',\n",
    "       'gill-attachment', 'gill-spacing', 'gill-size', 'gill-color',\n",
    "       'stalk-shape', 'stalk-root', 'stalk-surface-above-ring',\n",
    "       'stalk-surface-below-ring', 'stalk-color-above-ring',\n",
    "       'stalk-color-below-ring', 'veil-type', 'veil-color', 'ring-number',\n",
    "       'ring-type', 'spore-print-color', 'population', 'habitat']\n",
    "\n",
    "# Define preprocessing steps\n",
    "dt_categorical_transformer = Pipeline(steps=[\n",
    "    ('imputer', SimpleImputer(strategy='most_frequent')),\n",
    "    ('onehot', OneHotEncoder(handle_unknown='ignore'))\n",
    "])\n",
    "\n",
    "dt_preprocessor = ColumnTransformer(\n",
    "    transformers=[\n",
    "        ('cat', dt_categorical_transformer, dt_categorical_features)\n",
    "    ])\n",
    "\n",
    "# Define the classifier\n",
    "decision_tree = DecisionTreeClassifier()\n",
    "dt_clf = Pipeline(steps=[('preprocessor', dt_preprocessor),\n",
    "                      ('classifier', decision_tree)])\n",
    "dt_X = data.drop('class', axis=1)\n",
    "dt_y = data['class']\n",
    "\n",
    "# Split the dataset into training and testing sets\n",
    "dt_X_train, dt_X_test, dt_y_train, dt_y_test = train_test_split(dt_X, dt_y, test_size=0.3, random_state=42)\n",
    "\n",
    "dt_X_test, dt_y_test\n",
    "\n",
    "# Train the classifier\n",
    "dt_clf.fit(dt_X_train, dt_y_train)\n",
    "\n",
    "# Predict on the testing set\n",
    "dt_y_pred = dt_clf.predict(dt_X_test)\n",
    "accuracy = accuracy_score(dt_y_test, dt_y_pred)\n",
    "print(\"Accuracy:\", accuracy)\n",
    "\n",
    "# Print classification report\n",
    "print(\"\\nClassification Report:\")\n",
    "print(classification_report(dt_y_test, dt_y_pred))\n",
    "\n",
    "# Print confusion matrix\n",
    "print(\"\\nConfusion Matrix:\")\n",
    "print(confusion_matrix(dt_y_test, dt_y_pred))\n",
    "\n",
    "# Get feature importance\n",
    "dt_feature_importance = dt_clf.named_steps['classifier'].feature_importances_\n",
    "\n",
    "# Get feature names from the preprocessor\n",
    "dt_feature_names = list(dt_clf.named_steps['preprocessor']\n",
    "                      .named_transformers_['cat']\n",
    "                      .named_steps['onehot']\n",
    "                      .get_feature_names_out(dt_categorical_features))\n",
    "\n",
    "# Get feature importance with feature names\n",
    "dt_feature_importance_with_names = dict(zip(dt_feature_names, dt_feature_importance))\n",
    "\n",
    "# Initialize a dictionary to store the summation of feature importance for each category\n",
    "dt_feature_importance_sum = {feature: {} for feature in dt_categorical_features}\n",
    "\n",
    "# Iterate over the feature importance dictionary\n",
    "for feature_name, importance_value in dt_feature_importance_with_names.items():\n",
    "    # Extract the feature and category from the feature name\n",
    "    feature, category = feature_name.split('_')\n",
    "    # If the category is not in the dictionary, initialize it with the importance value\n",
    "    if category not in dt_feature_importance_sum[feature]:\n",
    "        dt_feature_importance_sum[feature][category] = importance_value\n",
    "    # If the category is already in the dictionary, add the importance value to it\n",
    "    else:\n",
    "        dt_feature_importance_sum[feature][category] += importance_value\n",
    "\n",
    "# Print the summation of feature importance grouped by each categorical feature\n",
    "dt_feature_grp_importance_sum = {}\n",
    "print(\"\\nSummation of Feature Importance Grouped by Category:\")\n",
    "for feature, categories in dt_feature_importance_sum.items():\n",
    "    print(f\"\\n{feature}:\")\n",
    "    tot_importance_sum = 0\n",
    "    for category, importance_sum in categories.items():\n",
    "      tot_importance_sum += importance_sum\n",
    "    print(tot_importance_sum)\n",
    "    dt_feature_grp_importance_sum[feature] = tot_importance_sum"
   ]
  },
  {
   "cell_type": "code",
   "execution_count": 12,
   "metadata": {
    "colab": {
     "base_uri": "https://localhost:8080/",
     "height": 872
    },
    "id": "QHMVNTzGR93C",
    "outputId": "b7fdf397-de42-4b61-b5dc-d58e68d2047c"
   },
   "outputs": [
    {
     "data": {
      "image/png": "[encoded data removed]",
      "text/plain": [
       "<Figure size 1000x1000 with 1 Axes>"
      ]
     },
     "metadata": {},
     "output_type": "display_data"
    }
   ],
   "source": [
    "# Sort the feature importance dictionary by values in descending order\n",
    "sorted_feature_importance = sorted(dt_feature_grp_importance_sum.items(), key=lambda x: x[1], reverse=True)\n",
    "\n",
    "# Extract feature names and importance values from the sorted dictionary\n",
    "features = [item[0] for item in sorted_feature_importance]\n",
    "importance_values = [item[1] for item in sorted_feature_importance]\n",
    "\n",
    "# Create bar plot\n",
    "plt.figure(figsize=(10, 10))\n",
    "plt.barh(features, importance_values, color='skyblue')\n",
    "plt.xlabel('Importance')\n",
    "plt.ylabel('Feature')\n",
    "plt.title('Feature Importance')\n",
    "plt.gca().invert_yaxis()  # Invert y-axis to display the most important feature on top\n",
    "plt.show()"
   ]
  },
  {
   "cell_type": "markdown",
   "metadata": {
    "id": "dYkxUnIPf37Y"
   },
   "source": [
    "\n",
    "**Random Forest Classification**"
   ]
  },
  {
   "cell_type": "code",
   "execution_count": 13,
   "metadata": {
    "colab": {
     "base_uri": "https://localhost:8080/"
    },
    "id": "wsR-Yv9S2Oer",
    "outputId": "44b72184-c752-4426-9889-799abffabaf6"
   },
   "outputs": [
    {
     "name": "stdout",
     "output_type": "stream",
     "text": [
      "Accuracy: 1.0\n",
      "\n",
      "Classification Report:\n",
      "              precision    recall  f1-score   support\n",
      "\n",
      "           e       1.00      1.00      1.00      1257\n",
      "           p       1.00      1.00      1.00      1181\n",
      "\n",
      "    accuracy                           1.00      2438\n",
      "   macro avg       1.00      1.00      1.00      2438\n",
      "weighted avg       1.00      1.00      1.00      2438\n",
      "\n",
      "\n",
      "Confusion Matrix:\n",
      "[[1257    0]\n",
      " [   0 1181]]\n",
      "\n",
      "Summation of Feature Importance Grouped by Category:\n",
      "\n",
      "cap-shape:\n",
      "0.0026844175519153708\n",
      "\n",
      "cap-surface:\n",
      "0.0183931775597421\n",
      "\n",
      "cap-color:\n",
      "0.020760852569967955\n",
      "\n",
      "bruises:\n",
      "0.0897588135096862\n",
      "\n",
      "odor:\n",
      "0.14675573668671218\n",
      "\n",
      "gill-attachment:\n",
      "0.0\n",
      "\n",
      "gill-spacing:\n",
      "0.07488140801941474\n",
      "\n",
      "gill-size:\n",
      "0.08952575805508439\n",
      "\n",
      "gill-color:\n",
      "0.013376555256866882\n",
      "\n",
      "stalk-shape:\n",
      "0.04411627479151807\n",
      "\n",
      "stalk-root:\n",
      "0.05312787413555778\n",
      "\n",
      "stalk-surface-above-ring:\n",
      "0.07947350799204433\n",
      "\n",
      "stalk-surface-below-ring:\n",
      "0.0082626147472783\n",
      "\n",
      "stalk-color-above-ring:\n",
      "0.016388190986543257\n",
      "\n",
      "stalk-color-below-ring:\n",
      "0.0032752726687510173\n",
      "\n",
      "veil-type:\n",
      "0.0\n",
      "\n",
      "veil-color:\n",
      "0.002545068893104705\n",
      "\n",
      "ring-number:\n",
      "0.009936465713677527\n",
      "\n",
      "ring-type:\n",
      "0.11181428082134248\n",
      "\n",
      "spore-print-color:\n",
      "0.15489993420127673\n",
      "\n",
      "population:\n",
      "0.0367376153896143\n",
      "\n",
      "habitat:\n",
      "0.023286180449901647\n"
     ]
    }
   ],
   "source": [
    "from sklearn.model_selection import train_test_split\n",
    "from sklearn.preprocessing import StandardScaler, OneHotEncoder\n",
    "from sklearn.impute import SimpleImputer\n",
    "from sklearn.compose import ColumnTransformer\n",
    "from sklearn.pipeline import Pipeline\n",
    "from sklearn.ensemble import RandomForestClassifier\n",
    "from sklearn.metrics import accuracy_score\n",
    "from sklearn.metrics import classification_report\n",
    "from sklearn.metrics import confusion_matrix\n",
    "\n",
    "# Define categorical features\n",
    "categorical_features = ['cap-shape', 'cap-surface', 'cap-color', 'bruises', 'odor',\n",
    "       'gill-attachment', 'gill-spacing', 'gill-size', 'gill-color',\n",
    "       'stalk-shape', 'stalk-root', 'stalk-surface-above-ring',\n",
    "       'stalk-surface-below-ring', 'stalk-color-above-ring',\n",
    "       'stalk-color-below-ring', 'veil-type', 'veil-color', 'ring-number',\n",
    "       'ring-type', 'spore-print-color', 'population', 'habitat']\n",
    "\n",
    "# Define preprocessing steps\n",
    "categorical_transformer = Pipeline(steps=[\n",
    "    ('imputer', SimpleImputer(strategy='most_frequent')),\n",
    "    ('onehot', OneHotEncoder(handle_unknown='ignore'))\n",
    "])\n",
    "\n",
    "preprocessor = ColumnTransformer(\n",
    "    transformers=[\n",
    "        ('cat', categorical_transformer, categorical_features)\n",
    "    ])\n",
    "\n",
    "# Define the classifier\n",
    "clf = Pipeline(steps=[('preprocessor', preprocessor),\n",
    "                      ('classifier', RandomForestClassifier(n_estimators=10))])\n",
    "X = data.drop('class', axis=1)\n",
    "y = data['class']\n",
    "\n",
    "# Split the dataset into training and testing sets\n",
    "X_train, X_test, y_train, y_test = train_test_split(X, y, test_size=0.3, random_state=42)\n",
    "\n",
    "X_test, y_test\n",
    "\n",
    "# Train the classifier\n",
    "clf.fit(X_train, y_train)\n",
    "\n",
    "# Predict on the testing set\n",
    "y_pred = clf.predict(X_test)\n",
    "accuracy = accuracy_score(y_test, y_pred)\n",
    "print(\"Accuracy:\", accuracy)\n",
    "\n",
    "# Print classification report\n",
    "print(\"\\nClassification Report:\")\n",
    "print(classification_report(y_test, y_pred))\n",
    "\n",
    "# Print confusion matrix\n",
    "print(\"\\nConfusion Matrix:\")\n",
    "print(confusion_matrix(y_test, y_pred))\n",
    "\n",
    "# Get feature importance\n",
    "feature_importance = clf.named_steps['classifier'].feature_importances_\n",
    "\n",
    "# Get feature names from the preprocessor\n",
    "feature_names = list(clf.named_steps['preprocessor']\n",
    "                      .named_transformers_['cat']\n",
    "                      .named_steps['onehot']\n",
    "                      .get_feature_names_out(categorical_features))\n",
    "\n",
    "# Get feature importance with feature names\n",
    "feature_importance_with_names = dict(zip(feature_names, feature_importance))\n",
    "\n",
    "# Initialize a dictionary to store the summation of feature importance for each category\n",
    "feature_importance_sum = {feature: {} for feature in categorical_features}\n",
    "\n",
    "# Iterate over the feature importance dictionary\n",
    "for feature_name, importance_value in feature_importance_with_names.items():\n",
    "    # Extract the feature and category from the feature name\n",
    "    feature, category = feature_name.split('_')\n",
    "    # If the category is not in the dictionary, initialize it with the importance value\n",
    "    if category not in feature_importance_sum[feature]:\n",
    "        feature_importance_sum[feature][category] = importance_value\n",
    "    # If the category is already in the dictionary, add the importance value to it\n",
    "    else:\n",
    "        feature_importance_sum[feature][category] += importance_value\n",
    "\n",
    "# Print the summation of feature importance grouped by each categorical feature\n",
    "feature_grp_importance_sum = {}\n",
    "print(\"\\nSummation of Feature Importance Grouped by Category:\")\n",
    "for feature, categories in feature_importance_sum.items():\n",
    "    print(f\"\\n{feature}:\")\n",
    "    tot_importance_sum = 0\n",
    "    for category, importance_sum in categories.items():\n",
    "      tot_importance_sum += importance_sum\n",
    "    print(tot_importance_sum)\n",
    "    feature_grp_importance_sum[feature] = tot_importance_sum"
   ]
  },
  {
   "cell_type": "code",
   "execution_count": 14,
   "metadata": {
    "colab": {
     "base_uri": "https://localhost:8080/",
     "height": 872
    },
    "id": "pFJ4tOhf1LJa",
    "outputId": "51e3ed71-4c55-4413-b90f-c59df1f56abb"
   },
   "outputs": [
    {
     "data": {
      "image/png": "[encoded data removed]",
      "text/plain": [
       "<Figure size 1000x1000 with 1 Axes>"
      ]
     },
     "metadata": {},
     "output_type": "display_data"
    }
   ],
   "source": [
    "# Sort the feature importance dictionary by values in descending order\n",
    "sorted_feature_importance = sorted(feature_grp_importance_sum.items(), key=lambda x: x[1], reverse=True)\n",
    "\n",
    "# Extract feature names and importance values from the sorted dictionary\n",
    "features = [item[0] for item in sorted_feature_importance]\n",
    "importance_values = [item[1] for item in sorted_feature_importance]\n",
    "\n",
    "# Create bar plot\n",
    "plt.figure(figsize=(10, 10))\n",
    "plt.barh(features, importance_values, color='skyblue')\n",
    "plt.xlabel('Importance')\n",
    "plt.ylabel('Feature')\n",
    "plt.title('Feature Importance')\n",
    "plt.gca().invert_yaxis()  # Invert y-axis to display the most important feature on top\n",
    "plt.show()"
   ]
  },
  {
   "cell_type": "markdown",
   "metadata": {
    "id": "fBhAJ5Kef97T"
   },
   "source": [
    "**Predict edible or poisonous for user inputted data**"
   ]
  },
  {
   "cell_type": "code",
   "execution_count": 15,
   "metadata": {
    "colab": {
     "base_uri": "https://localhost:8080/"
    },
    "id": "h2JpGzw1ZeJk",
    "outputId": "3ef5d3f3-8417-4137-8d0f-a9c169f4eb61"
   },
   "outputs": [
    {
     "name": "stdout",
     "output_type": "stream",
     "text": [
      "The mushroom is predicted to be edible.\n"
     ]
    }
   ],
   "source": [
    "# Collect user input\n",
    "user_input = {\n",
    "    'cap-shape': ['x'],\n",
    "    'cap-surface': ['s'],\n",
    "    'cap-color': ['n'],\n",
    "    'bruises': ['t'],\n",
    "    'odor': ['p'],\n",
    "    'gill-attachment': ['f'],\n",
    "    'gill-spacing': ['c'],\n",
    "    'gill-size': ['b'],\n",
    "    'gill-color': ['k'],\n",
    "    'stalk-shape': ['e'],\n",
    "    'stalk-root': ['c'],\n",
    "    'stalk-surface-above-ring': ['s'],\n",
    "    'stalk-surface-below-ring': ['s'],\n",
    "    'stalk-color-above-ring': ['w'],\n",
    "    'stalk-color-below-ring': ['w'],\n",
    "    'veil-type': ['p'],\n",
    "    'veil-color': ['w'],\n",
    "    'ring-number': ['o'],\n",
    "    'ring-type': ['p'],\n",
    "    'spore-print-color': ['n'],\n",
    "    'population': ['n'],\n",
    "    'habitat': ['g']\n",
    "}\n",
    "\n",
    "# Convert user input to DataFrame\n",
    "user_df = pd.DataFrame(user_input)\n",
    "\n",
    "# Preprocess user input\n",
    "#user_processed = preprocessor.transform(user_df)\n",
    "\n",
    "# Make prediction\n",
    "prediction = clf.predict(user_df)\n",
    "\n",
    "# Display prediction\n",
    "if prediction[0] == 'e':\n",
    "    print(\"The mushroom is predicted to be edible.\")\n",
    "else:\n",
    "    print(\"The mushroom is predicted to be poisonous.\")"
   ]
  },
  {
   "cell_type": "code",
   "execution_count": 16,
   "metadata": {},
   "outputs": [
    {
     "data": {
      "text/plain": [
       "['mushroom_model.pkl']"
      ]
     },
     "execution_count": 16,
     "metadata": {},
     "output_type": "execute_result"
    }
   ],
   "source": [
    "import joblib\n",
    "\n",
    "joblib.dump(clf, 'mushroom_model.pkl')"
   ]
  }
 ],
 "metadata": {
  "colab": {
   "provenance": []
  },
  "kernelspec": {
   "display_name": "Python 3 (ipykernel)",
   "language": "python",
   "name": "python3"
  },
  "language_info": {
   "codemirror_mode": {
    "name": "ipython",
    "version": 3
   },
   "file_extension": ".py",
   "mimetype": "text/x-python",
   "name": "python",
   "nbconvert_exporter": "python",
   "pygments_lexer": "ipython3",
   "version": "3.12.7"
  }
 },
 "nbformat": 4,
 "nbformat_minor": 4
}
